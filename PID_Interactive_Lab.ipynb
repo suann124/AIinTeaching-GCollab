{
 "cells": [
  {
   "cell_type": "markdown",
   "metadata": {
    "id": "header"
   },
   "source": [
    "# Interactive PID Control Lab\n",
    "\n",
    "Welcome to the **Interactive PID Control Lab**! This notebook contains all the hands-on experiments and code examples from the PID control lecture.\n",
    "\n",
    "## 🎯 Learning Objectives\n",
    "- **PID controller structure** and transfer function representation\n",
    "- **Closed-loop analysis** using transfer functions $G_{ry}(s)$\n",
    "- Effects of **P**, **I**, **D** terms on steady-state error and transient response\n",
    "- **Disturbance rejection** properties of integral action\n",
    "- **Practical implementation** considerations and discrete-time forms\n",
    "- **Manual tuning** strategies based on closed-loop characteristics\n",
    "\n",
    "---"
   ]
  },
  {
   "cell_type": "code",
   "execution_count": null,
   "metadata": {
    "id": "imports"
   },
   "outputs": [],
   "source": [
    "# Install required packages\n",
    "!pip install numpy matplotlib scipy\n",
    "\n",
    "# Import libraries\n",
    "import numpy as np\n",
    "import matplotlib.pyplot as plt\n",
    "from scipy import signal\n",
    "import math\n",
    "\n",
    "# Set up plotting\n",
    "plt.style.use('seaborn-v0_8')\n",
    "plt.rcParams['figure.figsize'] = (10, 6)\n",
    "print(\"✅ All packages imported successfully!\")"
   ]
  },
  {
   "cell_type": "markdown",
   "metadata": {
    "id": "discrete-pid"
   },
   "source": [
    "# 1. Discrete PID Implementation\n",
    "\n",
    "Let's start with a practical, discrete-time PID controller that you can use in real projects:"
   ]
  },
  {
   "cell_type": "code",
   "execution_count": null,
   "metadata": {
    "id": "discrete-pid-code"
   },
   "outputs": [],
   "source": [
    "def pid_discrete(e, st, Kp=1.2, Ki=0.3, Kd=0.05, dt=0.01,\n",
    "                 tau_d=0.02, umin=-5.0, umax=5.0, Taw=0.1):\n",
    "    \"\"\"\n",
    "    One PID update with filtered D and back-calculation anti-windup.\n",
    "    st = dict(integ, prev_e, d_filt)\n",
    "    Returns (u, st)\n",
    "    \"\"\"\n",
    "    integ, prev_e, d_filt = st[\"integ\"], st[\"prev_e\"], st[\"d_filt\"]\n",
    "\n",
    "    # trapezoidal integral\n",
    "    integ = integ + 0.5*dt*(e + prev_e)\n",
    "\n",
    "    # filtered derivative\n",
    "    alpha = tau_d/(tau_d + dt) if tau_d > 0 else 0.0\n",
    "    d_raw = (e - prev_e)/dt if dt > 0 else 0.0\n",
    "    d_filt = alpha*d_filt + (1.0 - alpha)*d_raw\n",
    "\n",
    "    u_raw = Kp*e + Ki*integ + Kd*d_filt\n",
    "\n",
    "    # saturation and anti-windup\n",
    "    u = max(umin, min(umax, u_raw))\n",
    "    integ += (u - u_raw)/Taw\n",
    "\n",
    "    st = {\"integ\": integ, \"prev_e\": e, \"d_filt\": d_filt}\n",
    "    return u, st\n",
    "\n",
    "print(\"✅ Discrete PID function defined!\")"
   ]
  },
  {
   "cell_type": "markdown",
   "metadata": {
    "id": "first-order-sim"
   },
   "source": [
    "# 2. First-Order System Simulation\n",
    "\n",
    "Let's simulate PID control on a simple first-order system: $x_{k+1} = x_k + \\Delta t [a (u_k - x_k)]$"
   ]
  },
  {
   "cell_type": "code",
   "execution_count": null,
   "metadata": {
    "id": "first-order-sim-code"
   },
   "outputs": [],
   "source": [
    "def simulate_pid_first_order(Kp=1.2, Ki=0.3, Kd=0.05, dt=0.01, T=5.0, a=5.0,\n",
    "                             ref=1.0, tau_d=0.02, umin=-5, umax=5, Taw=0.1):\n",
    "    n = int(T/dt)\n",
    "    x = 0.0\n",
    "    st = {\"integ\": 0.0, \"prev_e\": 0.0, \"d_filt\": 0.0}\n",
    "    xs, us, es, ts = [], [], [], []\n",
    "\n",
    "    for k in range(n):\n",
    "        t = k*dt\n",
    "        e = ref - x\n",
    "        u, st = pid_discrete(e, st, Kp, Ki, Kd, dt, tau_d, umin, umax, Taw)\n",
    "        # plant update\n",
    "        x = x + dt*(a*(u - x))\n",
    "        xs.append(x); us.append(u); es.append(e); ts.append(t)\n",
    "    return np.array(ts), np.array(xs), np.array(us), np.array(es)\n",
    "\n",
    "# Test the simulation\n",
    "ts, xs, us, es = simulate_pid_first_order()\n",
    "print(f\"Final output: {xs[-1]:.3f}, Final control: {us[-1]:.3f}\")\n",
    "print(\"✅ Simulation function ready!\")"
   ]
  },
  {
   "cell_type": "code",
   "execution_count": null,
   "metadata": {
    "id": "first-order-plot"
   },
   "outputs": [],
   "source": [
    "# Plot the results\n",
    "fig, (ax1, ax2) = plt.subplots(2, 1, figsize=(10, 8))\n",
    "\n",
    "ax1.plot(ts, xs, label='x (output)', linewidth=2)\n",
    "ax1.plot(ts, np.ones_like(ts), '--', label='reference', alpha=0.7)\n",
    "ax1.set_xlabel('time [s]')\n",
    "ax1.set_ylabel('output')\n",
    "ax1.set_title('Step response with PID')\n",
    "ax1.legend()\n",
    "ax1.grid(True, alpha=0.3)\n",
    "\n",
    "ax2.plot(ts, us, label='u (control)', color='orange', linewidth=2)\n",
    "ax2.set_xlabel('time [s]')\n",
    "ax2.set_ylabel('control signal')\n",
    "ax2.set_title('Control effort (with saturation)')\n",
    "ax2.legend()\n",
    "ax2.grid(True, alpha=0.3)\n",
    "\n",
    "plt.tight_layout()\n",
    "plt.show()\n",
    "\n",
    "print(\"💡 Try changing Kp (faster but overshoot), Kd (damps overshoot), Ki (removes bias)\")"
   ]
  },
  {
   "cell_type": "markdown",
   "metadata": {
    "id": "proportional"
   },
   "source": [
    "# 3. Understanding P, I, D Effects on Second-Order Plant\n",
    "\n",
    "Let's explore how each PID term affects system behavior using a **mass-spring-damper** system. The plant transfer function is:\n",
    "\n",
    "$$G_p(s) = \\frac{\\omega_n^2}{s^2 + 2\\zeta\\omega_n s + \\omega_n^2}$$\n",
    "\n",
    "where $\\omega_n = 2$ rad/s is the natural frequency and $\\zeta = 0.1$ is the damping ratio (lightly damped)."
   ]
  },
  {
   "cell_type": "code",
   "execution_count": null,
   "metadata": {
    "id": "plant-setup"
   },
   "outputs": [],
   "source": [
    "# Plant: underdamped second-order system\n",
    "wn = 2.0  # natural frequency\n",
    "zeta = 0.1  # damping ratio\n",
    "num_p = [wn**2]\n",
    "den_p = [1, 2*zeta*wn, wn**2]\n",
    "Gp = signal.TransferFunction(num_p, den_p)\n",
    "\n",
    "# Time vector\n",
    "t = np.linspace(0, 8, 800)\n",
    "\n",
    "def multiply_tf(tf1, tf2):\n",
    "    \"\"\"Multiply two transfer functions manually\"\"\"\n",
    "    # (n1/d1) * (n2/d2) = (n1*n2)/(d1*d2)\n",
    "    num = np.polymul(tf1.num, tf2.num)\n",
    "    den = np.polymul(tf1.den, tf2.den)\n",
    "    return signal.TransferFunction(num, den)\n",
    "\n",
    "def closed_loop_tf(Gc, Gp):\n",
    "    \"\"\"Calculate closed-loop transfer function T = GcGp/(1+GcGp)\"\"\"\n",
    "    # First multiply Gc * Gp\n",
    "    GcGp = multiply_tf(Gc, Gp)\n",
    "    \n",
    "    # T = GcGp / (1 + GcGp)\n",
    "    # This means T = GcGp.num / (GcGp.den + GcGp.num)\n",
    "    num_cl = GcGp.num\n",
    "    den_cl = np.polyadd(GcGp.den, GcGp.num)\n",
    "    \n",
    "    return signal.TransferFunction(num_cl, den_cl)\n",
    "\n",
    "print(\"✅ Plant and helper functions defined!\")\n",
    "print(f\"Plant: {Gp}\")"
   ]
  },
  {
   "cell_type": "markdown",
   "metadata": {
    "id": "proportional-analysis"
   },
   "source": [
    "## 3.1 Proportional-Only Control\n",
    "\n",
    "First, let's see what happens with **P-only** control ($K_i = 0$, $K_d = 0$):"
   ]
  },
  {
   "cell_type": "code",
   "execution_count": null,
   "metadata": {
    "id": "proportional-test"
   },
   "outputs": [],
   "source": [
    "# Test different Kp values\n",
    "Kp_values = [0.5, 1.0, 2.0, 4.0]\n",
    "plt.figure(figsize=(12, 8))\n",
    "\n",
    "for i, Kp in enumerate(Kp_values):\n",
    "    # P-only controller\n",
    "    Gc = signal.TransferFunction([Kp], [1])\n",
    "    \n",
    "    # Closed-loop transfer function T(s) = GcGp/(1+GcGp)\n",
    "    T_cl = closed_loop_tf(Gc, Gp)\n",
    "    \n",
    "    # Step response\n",
    "    t_step, y_step = signal.step(T_cl, T=t)\n",
    "    \n",
    "    plt.plot(t_step, y_step, label=f'Kp = {Kp}', linewidth=2)\n",
    "\n",
    "plt.axhline(y=1, color='k', linestyle='--', alpha=0.5, label='Reference')\n",
    "plt.xlabel('Time [s]')\n",
    "plt.ylabel('Output')\n",
    "plt.title('P-only Control: Effect of Increasing Kp')\n",
    "plt.legend()\n",
    "plt.grid(True, alpha=0.3)\n",
    "plt.xlim(0, 8)\n",
    "plt.show()\n",
    "\n",
    "# Show steady-state error for each case\n",
    "print(\"Steady-state values (should be 1.0 for perfect tracking):\")\n",
    "for Kp in Kp_values:\n",
    "    Gc = signal.TransferFunction([Kp], [1])\n",
    "    T_cl = closed_loop_tf(Gc, Gp)\n",
    "    _, y_step = signal.step(T_cl, T=t)\n",
    "    ss_value = y_step[-1]\n",
    "    ss_error = 1.0 - ss_value\n",
    "    print(f\"Kp = {Kp}: SS value = {ss_value:.3f}, SS error = {ss_error:.3f}\")\n",
    "\n",
    "print(\"\\n🔍 Observations:\")\n",
    "print(\"• Higher Kp → faster response but more overshoot\")\n",
    "print(\"• Steady-state error remains (P-only cannot eliminate it for step inputs)\")\n",
    "print(\"• Too high Kp → system becomes oscillatory/unstable\")"
   ]
  },
  {
   "cell_type": "markdown",
   "metadata": {
    "id": "integral"
   },
   "source": [
    "## 3.2 Adding Integral Action (PI Control)\n",
    "\n",
    "Now add integral action to eliminate steady-state error:"
   ]
  },
  {
   "cell_type": "code",
   "execution_count": null,
   "metadata": {
    "id": "integral-test"
   },
   "outputs": [],
   "source": [
    "# PI Controller: Gc(s) = Kp + Ki/s\n",
    "Kp = 1.0  # Fixed proportional gain\n",
    "Ki_values = [0.0, 0.5, 1.0, 2.0]\n",
    "\n",
    "plt.figure(figsize=(12, 8))\n",
    "\n",
    "for Ki in Ki_values:\n",
    "    # PI controller\n",
    "    if Ki == 0:\n",
    "        Gc = signal.TransferFunction([Kp], [1])\n",
    "        label = f'P-only (Ki = 0)'\n",
    "    else:\n",
    "        # Kp + Ki/s = (Kp*s + Ki)/s\n",
    "        Gc = signal.TransferFunction([Kp, Ki], [1, 0])\n",
    "        label = f'PI (Ki = {Ki})'\n",
    "    \n",
    "    # Closed-loop\n",
    "    T_cl = closed_loop_tf(Gc, Gp)\n",
    "    t_step, y_step = signal.step(T_cl, T=t)\n",
    "    \n",
    "    plt.plot(t_step, y_step, label=label, linewidth=2)\n",
    "\n",
    "plt.axhline(y=1, color='k', linestyle='--', alpha=0.5, label='Reference')\n",
    "plt.xlabel('Time [s]')\n",
    "plt.ylabel('Output')\n",
    "plt.title('PI Control: Effect of Adding Integral Action')\n",
    "plt.legend()\n",
    "plt.grid(True, alpha=0.3)\n",
    "plt.xlim(0, 8)\n",
    "plt.show()\n",
    "\n",
    "# Check final values\n",
    "print(\"Final values with PI control:\")\n",
    "for Ki in Ki_values[1:]:  # Skip Ki=0 case\n",
    "    Gc = signal.TransferFunction([Kp, Ki], [1, 0])\n",
    "    T_cl = closed_loop_tf(Gc, Gp)\n",
    "    _, y_step = signal.step(T_cl, T=t)\n",
    "    print(f\"Ki = {Ki}: Final value = {y_step[-1]:.6f}\")\n",
    "\n",
    "print(\"\\n🔍 Key insight: Integral action eliminates steady-state error but can make the response slower and more oscillatory.\")"
   ]
  },
  {
   "cell_type": "markdown",
   "metadata": {
    "id": "derivative"
   },
   "source": [
    "## 3.3 Adding Derivative Action (Full PID)\n",
    "\n",
    "Finally, add derivative action to improve transient response:"
   ]
  },
  {
   "cell_type": "code",
   "execution_count": null,
   "metadata": {
    "id": "derivative-test"
   },
   "outputs": [],
   "source": [
    "# PID Controller: Gc(s) = Kp + Ki/s + Kd*s\n",
    "Kp, Ki = 1.0, 1.0  # Fixed P and I gains\n",
    "Kd_values = [0.0, 0.1, 0.2, 0.5]\n",
    "\n",
    "plt.figure(figsize=(12, 8))\n",
    "\n",
    "for Kd in Kd_values:\n",
    "    if Kd == 0:\n",
    "        # PI only\n",
    "        Gc = signal.TransferFunction([Kp, Ki], [1, 0])\n",
    "        label = f'PI (Kd = 0)'\n",
    "    else:\n",
    "        # Kp + Ki/s + Kd*s = (Kd*s^2 + Kp*s + Ki)/s\n",
    "        Gc = signal.TransferFunction([Kd, Kp, Ki], [1, 0])\n",
    "        label = f'PID (Kd = {Kd})'\n",
    "    \n",
    "    T_cl = closed_loop_tf(Gc, Gp)\n",
    "    t_step, y_step = signal.step(T_cl, T=t)\n",
    "    \n",
    "    plt.plot(t_step, y_step, label=label, linewidth=2)\n",
    "\n",
    "plt.axhline(y=1, color='k', linestyle='--', alpha=0.5, label='Reference')\n",
    "plt.xlabel('Time [s]')\n",
    "plt.ylabel('Output')\n",
    "plt.title('PID Control: Effect of Adding Derivative Action')\n",
    "plt.legend()\n",
    "plt.grid(True, alpha=0.3)\n",
    "plt.xlim(0, 8)\n",
    "plt.show()\n",
    "\n",
    "print(\"\\n🔍 Derivative benefits:\")\n",
    "print(\"• Reduces overshoot and oscillation\")\n",
    "print(\"• Improves damping and settling time\")\n",
    "print(\"• Acts like a 'brake' on fast changes\")"
   ]
  },
  {
   "cell_type": "markdown",
   "metadata": {
    "id": "practical-pid"
   },
   "source": [
    "# 4. Practical PID Class\n",
    "\n",
    "Here's a complete PID class you can use in your own projects:"
   ]
  },
  {
   "cell_type": "code",
   "execution_count": null,
   "metadata": {
    "id": "practical-pid-code"
   },
   "outputs": [],
   "source": [
    "class PID:\n",
    "    def __init__(self, Kp=1.0, Ki=0.0, Kd=0.0, dt=0.01, tau_d=0.02,\n",
    "                 umin=-np.inf, umax=np.inf, Taw=0.1):\n",
    "        self.Kp, self.Ki, self.Kd = Kp, Ki, Kd\n",
    "        self.dt, self.tau_d = dt, tau_d\n",
    "        self.umin, self.umax = umin, umax\n",
    "        self.Taw = Taw\n",
    "        self.integ = 0.0\n",
    "        self.prev_e = 0.0\n",
    "        self.d_filt = 0.0\n",
    "\n",
    "    def step(self, e):\n",
    "        dt = self.dt\n",
    "        # integral (trapezoid)\n",
    "        self.integ += 0.5*dt*(e + self.prev_e)\n",
    "        # derivative (filtered)\n",
    "        if self.tau_d > 0:\n",
    "            alpha = self.tau_d/(self.tau_d + dt)\n",
    "            d_raw = (e - self.prev_e)/dt\n",
    "            self.d_filt = alpha*self.d_filt + (1-alpha)*d_raw\n",
    "        else:\n",
    "            self.d_filt = (e - self.prev_e)/dt\n",
    "        u_raw = self.Kp*e + self.Ki*self.integ + self.Kd*self.d_filt\n",
    "        # saturation + anti-windup\n",
    "        u = max(self.umin, min(self.umax, u_raw))\n",
    "        self.integ += (u - u_raw)/self.Taw\n",
    "        self.prev_e = e\n",
    "        return u\n",
    "    \n",
    "    def reset(self):\n",
    "        \"\"\"Reset integrator and derivative filter\"\"\"\n",
    "        self.integ = 0.0\n",
    "        self.prev_e = 0.0\n",
    "        self.d_filt = 0.0\n",
    "\n",
    "# Test the PID class\n",
    "pid = PID(Kp=1.2, Ki=0.3, Kd=0.05)\n",
    "print(\"✅ PID class ready to use!\")\n",
    "print(f\"Test: error=1.0 → control = {pid.step(1.0):.3f}\")\n",
    "print(f\"Test: error=0.5 → control = {pid.step(0.5):.3f}\")"
   ]
  },
  {
   "cell_type": "markdown",
   "metadata": {
    "id": "interactive-tuning"
   },
   "source": [
    "# 5. Interactive PID Tuning Exercise\n",
    "\n",
    "Try different PID parameter combinations and observe their effects:"
   ]
  },
  {
   "cell_type": "code",
   "execution_count": null,
   "metadata": {
    "id": "tuning-exercise"
   },
   "outputs": [],
   "source": [
    "# Interactive PID tuning exercise\n",
    "def plot_pid_response(Kp=1.0, Ki=0.5, Kd=0.1):\n",
    "    \"\"\"Plot step response for given PID parameters\"\"\"\n",
    "    \n",
    "    # Create PID controller\n",
    "    if Ki == 0 and Kd == 0:\n",
    "        Gc = signal.TransferFunction([Kp], [1])\n",
    "        controller_name = f\"P-only (Kp={Kp})\"\n",
    "    elif Kd == 0:\n",
    "        Gc = signal.TransferFunction([Kp, Ki], [1, 0])\n",
    "        controller_name = f\"PI (Kp={Kp}, Ki={Ki})\"\n",
    "    else:\n",
    "        Gc = signal.TransferFunction([Kd, Kp, Ki], [1, 0])\n",
    "        controller_name = f\"PID (Kp={Kp}, Ki={Ki}, Kd={Kd})\"\n",
    "    \n",
    "    # Closed-loop response\n",
    "    T_cl = closed_loop_tf(Gc, Gp)\n",
    "    t_step, y_step = signal.step(T_cl, T=t)\n",
    "    \n",
    "    # Calculate performance metrics\n",
    "    final_value = y_step[-1]\n",
    "    steady_state_error = abs(1.0 - final_value)\n",
    "    peak_value = np.max(y_step)\n",
    "    overshoot = (peak_value - 1.0) * 100 if peak_value > 1.0 else 0\n",
    "    \n",
    "    # Find settling time (2% criterion)\n",
    "    settle_band = 0.02\n",
    "    settled_indices = np.where(np.abs(y_step - final_value) <= settle_band)[0]\n",
    "    settle_time = t[settled_indices[0]] if len(settled_indices) > 0 else t[-1]\n",
    "    \n",
    "    # Plot\n",
    "    plt.figure(figsize=(12, 6))\n",
    "    plt.plot(t_step, y_step, linewidth=3, label=controller_name)\n",
    "    plt.axhline(y=1, color='k', linestyle='--', alpha=0.5, label='Reference')\n",
    "    plt.axhline(y=1+settle_band, color='r', linestyle=':', alpha=0.5, label='±2% band')\n",
    "    plt.axhline(y=1-settle_band, color='r', linestyle=':', alpha=0.5)\n",
    "    \n",
    "    plt.xlabel('Time [s]')\n",
    "    plt.ylabel('Output')\n",
    "    plt.title(f'Step Response - {controller_name}')\n",
    "    plt.legend()\n",
    "    plt.grid(True, alpha=0.3)\n",
    "    plt.xlim(0, 8)\n",
    "    \n",
    "    # Add performance text\n",
    "    perf_text = f\"\"\"Performance Metrics:\n",
    "• Steady-state error: {steady_state_error:.4f}\n",
    "• Overshoot: {overshoot:.1f}%\n",
    "• Settling time: {settle_time:.2f}s\n",
    "• Final value: {final_value:.4f}\"\"\"\n",
    "    \n",
    "    plt.text(0.02, 0.98, perf_text, transform=plt.gca().transAxes, \n",
    "             verticalalignment='top', bbox=dict(boxstyle='round', facecolor='wheat', alpha=0.8))\n",
    "    \n",
    "    plt.tight_layout()\n",
    "    plt.show()\n",
    "    \n",
    "    return steady_state_error, overshoot, settle_time\n",
    "\n",
    "print(\"🎛️ Interactive PID Tuning Exercise\")\n",
    "print(\"Try different combinations and observe the effects:\")\n",
    "print()\n",
    "\n",
    "# Example: Try these combinations\n",
    "tuning_examples = [\n",
    "    (\"P-only (low gain)\", 0.5, 0.0, 0.0),\n",
    "    (\"P-only (high gain)\", 3.0, 0.0, 0.0),\n",
    "    (\"PI control\", 1.0, 0.8, 0.0),\n",
    "    (\"PID control\", 1.0, 0.8, 0.15)\n",
    "]\n",
    "\n",
    "for name, kp, ki, kd in tuning_examples:\n",
    "    print(f\"\\n=== {name} ===\")\n",
    "    sse, os, st = plot_pid_response(kp, ki, kd)"
   ]
  },
  {
   "cell_type": "markdown",
   "metadata": {
    "id": "conclusion"
   },
   "source": [
    "# 🎯 Conclusion\n",
    "\n",
    "Congratulations! You've completed the Interactive PID Control Lab. Here's what you've learned:\n",
    "\n",
    "## Key Takeaways\n",
    "\n",
    "1. **P-control**: Fast response but with steady-state error\n",
    "2. **I-control**: Eliminates steady-state error but can cause oscillation\n",
    "3. **D-control**: Improves damping and reduces overshoot\n",
    "4. **Practical implementation**: Filtering, anti-windup, and saturation are essential\n",
    "5. **Tuning strategy**: Start with P, add D for damping, then I for accuracy\n",
    "\n",
    "## Next Steps\n",
    "\n",
    "- Try the PID class on your own control problems\n",
    "- Experiment with different plant models\n",
    "- Learn about advanced topics like feedforward control and gain scheduling\n",
    "- Explore modern control methods (LQR, MPC, H∞)\n",
    "\n",
    "## Resources\n",
    "\n",
    "- **Textbook**: Åström & Murray - \"Feedback Systems\"\n",
    "- **Online**: Control tutorials from University of Michigan\n",
    "- **Software**: MATLAB Control Toolbox, Python Control Library\n",
    "\n",
    "---\n",
    "\n",
    "**Happy controlling! 🎛️**"
   ]
  }
 ],
 "metadata": {
  "colab": {
   "provenance": [],
   "toc_visible": true
  },
  "kernelspec": {
   "display_name": "Python 3",
   "name": "python3"
  },
  "language_info": {
   "name": "python"
  }
 },
 "nbformat": 4,
 "nbformat_minor": 0
}